{
 "cells": [
  {
   "cell_type": "code",
   "execution_count": null,
   "metadata": {},
   "outputs": [],
   "source": [
    "# imports\n",
    "from model import hybrid_CNN_RNN\n",
    "from train import train\n",
    "from train import evaluate\n",
    "from train import get_model_name\n",
    "from train import plot_training_curve"
   ]
  },
  {
   "cell_type": "code",
   "execution_count": null,
   "metadata": {},
   "outputs": [],
   "source": [
    "# dataloaders\n",
    "train_loader\n",
    "val_loader"
   ]
  },
  {
   "cell_type": "code",
   "execution_count": null,
   "metadata": {},
   "outputs": [],
   "source": [
    "# declaration of network\n",
    "network = hybrid_CNN_RNN(100)"
   ]
  },
  {
   "cell_type": "code",
   "execution_count": null,
   "metadata": {},
   "outputs": [],
   "source": [
    "train(network, train_loader, val_loader, learning_rate=0.01, num_epochs=30)"
   ]
  }
 ],
 "metadata": {
  "kernelspec": {
   "display_name": "Python 3.9.13 64-bit (microsoft store)",
   "language": "python",
   "name": "python3"
  },
  "language_info": {
   "name": "python",
   "version": "3.9.13"
  },
  "orig_nbformat": 4,
  "vscode": {
   "interpreter": {
    "hash": "cd2356e1c4f2fb94bf6edbddb70dfcd577fc6bfd5f800437862dfa5948fe6b7d"
   }
  }
 },
 "nbformat": 4,
 "nbformat_minor": 2
}
