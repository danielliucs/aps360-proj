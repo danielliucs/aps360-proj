{
 "cells": [
  {
   "cell_type": "code",
   "execution_count": 1,
   "metadata": {},
   "outputs": [],
   "source": [
    "# imports\n",
    "from model import hybrid_CNN_RNN\n",
    "from train import train\n",
    "from train import evaluate\n",
    "from train import get_model_name\n",
    "from train import plot_training_curve\n",
    "import torch\n",
    "import torchvision"
   ]
  },
  {
   "cell_type": "code",
   "execution_count": 2,
   "metadata": {},
   "outputs": [],
   "source": [
    "# datasets\n",
    "train_set = torchvision.datasets.DatasetFolder(\"C:/Users/User/Desktop/aps360-proj/dataset/train_frames\", loader=torch.load, extensions=('.tensorsaved'))\n",
    "val_set = torchvision.datasets.DatasetFolder(\"C:/Users/User/Desktop/aps360-proj/dataset/val_frames\", loader=torch.load, extensions=('.tensorsaved'))"
   ]
  },
  {
   "cell_type": "code",
   "execution_count": 3,
   "metadata": {},
   "outputs": [
    {
     "name": "stderr",
     "output_type": "stream",
     "text": [
      "c:\\Users\\User\\Desktop\\aps360-proj\\venv\\lib\\site-packages\\torchvision\\models\\_utils.py:208: UserWarning: The parameter 'pretrained' is deprecated since 0.13 and may be removed in the future, please use 'weights' instead.\n",
      "  warnings.warn(\n",
      "c:\\Users\\User\\Desktop\\aps360-proj\\venv\\lib\\site-packages\\torchvision\\models\\_utils.py:223: UserWarning: Arguments other than a weight enum or `None` for 'weights' are deprecated since 0.13 and may be removed in the future. The current behavior is equivalent to passing `weights=AlexNet_Weights.IMAGENET1K_V1`. You can also use `weights=AlexNet_Weights.DEFAULT` to get the most up-to-date weights.\n",
      "  warnings.warn(msg)\n"
     ]
    }
   ],
   "source": [
    "# declaration of network\n",
    "network = hybrid_CNN_RNN(12)"
   ]
  },
  {
   "cell_type": "code",
   "execution_count": 4,
   "metadata": {},
   "outputs": [
    {
     "name": "stdout",
     "output_type": "stream",
     "text": [
      "Epoch 1: \n",
      "Train acc: 0.44387755102040816, Train loss: 0.7983709070451406\n",
      "Validation acc: 0.6363636363636364, Validation loss: 0.6692886826666918\n",
      "Epoch 2: \n",
      "Train acc: 0.5561224489795918, Train loss: 0.7068223822481778\n",
      "Validation acc: 0.36363636363636365, Validation loss: 0.727817646481774\n",
      "Epoch 3: \n",
      "Train acc: 0.5357142857142857, Train loss: 0.6937646707709955\n",
      "Validation acc: 0.36363636363636365, Validation loss: 0.7246062647212635\n",
      "Epoch 4: \n",
      "Train acc: 0.5357142857142857, Train loss: 0.691151177700685\n",
      "Validation acc: 0.36363636363636365, Validation loss: 0.7226411320946433\n",
      "Epoch 5: \n",
      "Train acc: 0.5357142857142857, Train loss: 0.691199252191855\n",
      "Validation acc: 0.36363636363636365, Validation loss: 0.7224209687926553\n",
      "Epoch 6: \n",
      "Train acc: 0.5357142857142857, Train loss: 0.6909920171815522\n",
      "Validation acc: 0.36363636363636365, Validation loss: 0.721635406667536\n",
      "Epoch 7: \n",
      "Train acc: 0.5357142857142857, Train loss: 0.6910525149836833\n",
      "Validation acc: 0.36363636363636365, Validation loss: 0.7201335375959222\n",
      "Epoch 8: \n",
      "Train acc: 0.5357142857142857, Train loss: 0.6910208138276119\n",
      "Validation acc: 0.36363636363636365, Validation loss: 0.7194850986654108\n",
      "Epoch 9: \n",
      "Train acc: 0.5357142857142857, Train loss: 0.6908405301522236\n",
      "Validation acc: 0.36363636363636365, Validation loss: 0.7190715237097307\n",
      "Epoch 10: \n",
      "Train acc: 0.5357142857142857, Train loss: 0.6910287759133747\n",
      "Validation acc: 0.36363636363636365, Validation loss: 0.7178300294009122\n",
      "Epoch 11: \n",
      "Train acc: 0.5357142857142857, Train loss: 0.6912228440751835\n",
      "Validation acc: 0.36363636363636365, Validation loss: 0.7182001905007795\n",
      "Epoch 12: \n",
      "Train acc: 0.5357142857142857, Train loss: 0.6909741847490778\n",
      "Validation acc: 0.36363636363636365, Validation loss: 0.7183516133915294\n",
      "Epoch 13: \n",
      "Train acc: 0.5357142857142857, Train loss: 0.6909651731958195\n",
      "Validation acc: 0.36363636363636365, Validation loss: 0.7175802209160544\n",
      "Epoch 14: \n",
      "Train acc: 0.5357142857142857, Train loss: 0.6909034577559452\n",
      "Validation acc: 0.36363636363636365, Validation loss: 0.7170379053462635\n",
      "Epoch 15: \n",
      "Train acc: 0.5357142857142857, Train loss: 0.6908754061679451\n",
      "Validation acc: 0.36363636363636365, Validation loss: 0.7164304039695046\n"
     ]
    },
    {
     "ename": "KeyboardInterrupt",
     "evalue": "",
     "output_type": "error",
     "traceback": [
      "\u001b[1;31m---------------------------------------------------------------------------\u001b[0m",
      "\u001b[1;31mKeyboardInterrupt\u001b[0m                         Traceback (most recent call last)",
      "Cell \u001b[1;32mIn [4], line 1\u001b[0m\n\u001b[1;32m----> 1\u001b[0m train(network, train_set, val_set, batch_size\u001b[39m=\u001b[39;49m\u001b[39m1\u001b[39;49m, learning_rate\u001b[39m=\u001b[39;49m\u001b[39m0.0001\u001b[39;49m, num_epochs\u001b[39m=\u001b[39;49m\u001b[39m30\u001b[39;49m)\n",
      "File \u001b[1;32mc:\\Users\\User\\Desktop\\aps360-proj\\primary_model\\train.py:45\u001b[0m, in \u001b[0;36mtrain\u001b[1;34m(net, train_set, val_set, batch_size, learning_rate, num_epochs)\u001b[0m\n\u001b[0;32m     42\u001b[0m loss \u001b[39m=\u001b[39m criterion(outputs, labels\u001b[39m.\u001b[39mfloat())\n\u001b[0;32m     44\u001b[0m \u001b[39m# gradient descent\u001b[39;00m\n\u001b[1;32m---> 45\u001b[0m loss\u001b[39m.\u001b[39;49mbackward()\n\u001b[0;32m     46\u001b[0m optimizer\u001b[39m.\u001b[39mstep()\n\u001b[0;32m     47\u001b[0m optimizer\u001b[39m.\u001b[39mzero_grad()\n",
      "File \u001b[1;32mc:\\Users\\User\\Desktop\\aps360-proj\\venv\\lib\\site-packages\\torch\\_tensor.py:487\u001b[0m, in \u001b[0;36mTensor.backward\u001b[1;34m(self, gradient, retain_graph, create_graph, inputs)\u001b[0m\n\u001b[0;32m    477\u001b[0m \u001b[39mif\u001b[39;00m has_torch_function_unary(\u001b[39mself\u001b[39m):\n\u001b[0;32m    478\u001b[0m     \u001b[39mreturn\u001b[39;00m handle_torch_function(\n\u001b[0;32m    479\u001b[0m         Tensor\u001b[39m.\u001b[39mbackward,\n\u001b[0;32m    480\u001b[0m         (\u001b[39mself\u001b[39m,),\n\u001b[1;32m   (...)\u001b[0m\n\u001b[0;32m    485\u001b[0m         inputs\u001b[39m=\u001b[39minputs,\n\u001b[0;32m    486\u001b[0m     )\n\u001b[1;32m--> 487\u001b[0m torch\u001b[39m.\u001b[39;49mautograd\u001b[39m.\u001b[39;49mbackward(\n\u001b[0;32m    488\u001b[0m     \u001b[39mself\u001b[39;49m, gradient, retain_graph, create_graph, inputs\u001b[39m=\u001b[39;49minputs\n\u001b[0;32m    489\u001b[0m )\n",
      "File \u001b[1;32mc:\\Users\\User\\Desktop\\aps360-proj\\venv\\lib\\site-packages\\torch\\autograd\\__init__.py:197\u001b[0m, in \u001b[0;36mbackward\u001b[1;34m(tensors, grad_tensors, retain_graph, create_graph, grad_variables, inputs)\u001b[0m\n\u001b[0;32m    192\u001b[0m     retain_graph \u001b[39m=\u001b[39m create_graph\n\u001b[0;32m    194\u001b[0m \u001b[39m# The reason we repeat same the comment below is that\u001b[39;00m\n\u001b[0;32m    195\u001b[0m \u001b[39m# some Python versions print out the first line of a multi-line function\u001b[39;00m\n\u001b[0;32m    196\u001b[0m \u001b[39m# calls in the traceback and some print out the last line\u001b[39;00m\n\u001b[1;32m--> 197\u001b[0m Variable\u001b[39m.\u001b[39;49m_execution_engine\u001b[39m.\u001b[39;49mrun_backward(  \u001b[39m# Calls into the C++ engine to run the backward pass\u001b[39;49;00m\n\u001b[0;32m    198\u001b[0m     tensors, grad_tensors_, retain_graph, create_graph, inputs,\n\u001b[0;32m    199\u001b[0m     allow_unreachable\u001b[39m=\u001b[39;49m\u001b[39mTrue\u001b[39;49;00m, accumulate_grad\u001b[39m=\u001b[39;49m\u001b[39mTrue\u001b[39;49;00m)\n",
      "\u001b[1;31mKeyboardInterrupt\u001b[0m: "
     ]
    }
   ],
   "source": [
    "train(network, train_set, val_set, batch_size=1, learning_rate=0.0001, num_epochs=30)"
   ]
  }
 ],
 "metadata": {
  "kernelspec": {
   "display_name": "Python 3.9.13 ('aps360')",
   "language": "python",
   "name": "python3"
  },
  "language_info": {
   "codemirror_mode": {
    "name": "ipython",
    "version": 3
   },
   "file_extension": ".py",
   "mimetype": "text/x-python",
   "name": "python",
   "nbconvert_exporter": "python",
   "pygments_lexer": "ipython3",
   "version": "3.9.13"
  },
  "orig_nbformat": 4,
  "vscode": {
   "interpreter": {
    "hash": "83fb7c3973833eb994fe07e2e72afcdf5f3209a41e27eaffc6ea320d131fe339"
   }
  }
 },
 "nbformat": 4,
 "nbformat_minor": 2
}
